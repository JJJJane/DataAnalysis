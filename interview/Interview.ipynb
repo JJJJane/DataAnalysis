{
 "cells": [
  {
   "cell_type": "markdown",
   "metadata": {},
   "source": [
    "1. 一行代码实现1-100的和"
   ]
  },
  {
   "cell_type": "code",
   "execution_count": 2,
   "metadata": {},
   "outputs": [
    {
     "data": {
      "text/plain": [
       "5050"
      ]
     },
     "execution_count": 2,
     "metadata": {},
     "output_type": "execute_result"
    }
   ],
   "source": [
    "sum(range(1,101))"
   ]
  },
  {
   "cell_type": "markdown",
   "metadata": {},
   "source": [
    "2. 如何在一个函数内部修改全局变量"
   ]
  },
  {
   "cell_type": "code",
   "execution_count": 3,
   "metadata": {},
   "outputs": [
    {
     "name": "stdout",
     "output_type": "stream",
     "text": [
      "4\n"
     ]
    }
   ],
   "source": [
    "a=3\n",
    "def mo():\n",
    "    global a\n",
    "    a=4\n",
    "mo()\n",
    "print(a)"
   ]
  },
  {
   "cell_type": "markdown",
   "metadata": {},
   "source": [
    "3. 列出5个python标准库"
   ]
  },
  {
   "cell_type": "markdown",
   "metadata": {},
   "source": [
    "os: 提供与操作系统相关联的函数，如获取当前工作路径（getcwd），改变当前工作目录（chdir），获取指定文件夹中所有内容列表（listdir）https://www.cnblogs.com/sunyang945/p/7900957.html\n",
    "\n",
    "sys: 通常用于命令行参数,如退出程序（exit），获取当前系统平台（platform）\n",
    "https://blog.csdn.net/zyc_love_study/article/details/78983817\n",
    "\n",
    "datetime: 处理日期时间\n",
    "https://www.cnblogs.com/yyds/p/6369211.html\n",
    "\n",
    "math: 数学运算\n",
    "http://www.runoob.com/w3cnote/python-math-and-cmath-module.html\n",
    "\n",
    "re: 正则运算，如变异正则表达式对象（compile），决定RE是否在字符串刚开始的位置匹配（match）\n",
    "https://www.cnblogs.com/tina-python/p/5508402.html"
   ]
  },
  {
   "cell_type": "markdown",
   "metadata": {},
   "source": [
    "4. 字典如何删除键和合并两个字典"
   ]
  },
  {
   "cell_type": "code",
   "execution_count": 14,
   "metadata": {},
   "outputs": [
    {
     "data": {
      "text/plain": [
       "{'age': 18}"
      ]
     },
     "execution_count": 14,
     "metadata": {},
     "output_type": "execute_result"
    }
   ],
   "source": [
    "dic1={'name': 'jane', 'age': 18}\n",
    "del dic1['name']\n",
    "dic1"
   ]
  },
  {
   "cell_type": "code",
   "execution_count": 16,
   "metadata": {},
   "outputs": [
    {
     "data": {
      "text/plain": [
       "{'age': 18, 'name': 'Matti'}"
      ]
     },
     "execution_count": 16,
     "metadata": {},
     "output_type": "execute_result"
    }
   ],
   "source": [
    "dic2={'name': 'Matti'}\n",
    "dic1.update(dic2)\n",
    "dic1"
   ]
  },
  {
   "cell_type": "markdown",
   "metadata": {},
   "source": [
    "5. 谈下python的GIL\n",
    "\n",
    "GIL是python的全局解释器锁。每个进程拥有一个GIL。当一个线程运行时，他会霸占整个GIL，同一进程里的其他线程不能运行，等待当前线程运行完毕后才能继续进行。同时，如果当前线程进行耗时操作时，解释器锁会解开，其他线程可以开始进行。所以在多线程中，线程是线性运行的。多进程中，由于每个进程拥有一个GIL，不同进程的线程可以同时进行，但进程系统资源开销较大。"
   ]
  },
  {
   "cell_type": "markdown",
   "metadata": {},
   "source": [
    "6. python实现列表去重的方法"
   ]
  },
  {
   "cell_type": "code",
   "execution_count": 18,
   "metadata": {},
   "outputs": [
    {
     "data": {
      "text/plain": [
       "[1, 3, 4, 22]"
      ]
     },
     "execution_count": 18,
     "metadata": {},
     "output_type": "execute_result"
    }
   ],
   "source": [
    "#先通过集合去重，再转列表\n",
    "li=[1,22,22,3,4]\n",
    "li=set(li)\n",
    "li=[x for x in li]\n",
    "li"
   ]
  },
  {
   "cell_type": "markdown",
   "metadata": {},
   "source": [
    "7. fun(\\*args,**kwargs)中的\\*args,**kwargs什么意思？"
   ]
  },
  {
   "cell_type": "code",
   "execution_count": 22,
   "metadata": {},
   "outputs": [
    {
     "name": "stdout",
     "output_type": "stream",
     "text": [
      "1\n",
      "2\n",
      "3\n",
      "4\n",
      "y:2\n",
      "x:1\n"
     ]
    }
   ],
   "source": [
    "#当不定数量的参数传递给函数的时候可以用*args和**kwargs，*args用来传递非键值的可变数量的参数列表，\n",
    "#**kwargs将不定长度的键值对作为参数传递\n",
    "def argsfun(*args_f):\n",
    "    for i in args_f:\n",
    "        print(i)\n",
    "def kwargsfun(**kwargs_v):\n",
    "    for i in kwargs_v:\n",
    "        print(\"%s:%s\"%(i, kwargs_v[i]))\n",
    "argsfun(1,2,3,4)\n",
    "kwargsfun(x=1,y=2)"
   ]
  },
  {
   "cell_type": "markdown",
   "metadata": {},
   "source": [
    "8. python2和python3的range（100）的区别\n",
    "\n",
    "python2返回列表，python3返回迭代器，节约内存"
   ]
  },
  {
   "cell_type": "markdown",
   "metadata": {},
   "source": [
    "9. 一句话解释什么样的语言能够用装饰器?\n",
    "\n",
    "函数可以作为参数传递的语言，可以使用装饰器"
   ]
  },
  {
   "cell_type": "markdown",
   "metadata": {},
   "source": [
    "10. python内建数据类型有哪些\n",
    "\n",
    "int, bool, str, list, tuple, dict"
   ]
  },
  {
   "cell_type": "markdown",
   "metadata": {},
   "source": [
    "11. 简述面向对象中__new__和__init__区别\n",
    "\n",
    "如果把类比做一个工厂，__init__方法就是生成工厂的工人，而__new__方法则是生成一个生产部经理。此生产部经理可以决定是否把原料给生产部经理，也可以决定出货产品是否为该生产部产品。\n",
    "__init__方法是类的初始化函数，创建对象时默认被调用，可以接受参数。\n",
    "__new__方法是类准备将自身实例化时的调用，至少需要一个cls类参数，此参数在实例化时由python解释器自行提供，必须有返回值，返回父类new出来的实例，或者object new出来的实例\n",
    "__init__方法的self就是new返回的实例\n",
    "如果__new__方法返回的实例是当前类的实例，会自动调用__init__函数，通过return语句里面调用的__new__函数的第一个参数是cls来保证返回的是当前类的实例；如果不是返回当前类的实例，不会调用当前类或者其他类的__init__函数"
   ]
  },
  {
   "cell_type": "markdown",
   "metadata": {},
   "source": [
    "12. 简述with方法打开处理文件帮我我们做了什么？\n",
    "\n",
    "用open方法读写文件时，可能会出现错误，所以需要写try，except，finally的语句来应对异常情况，不管何种情况都要执行f.close()；用with语句帮助我们实现了f.close()"
   ]
  },
  {
   "cell_type": "markdown",
   "metadata": {},
   "source": [
    "13. python中生成随机整数、随机小数、0--1之间小数方法"
   ]
  },
  {
   "cell_type": "code",
   "execution_count": 24,
   "metadata": {},
   "outputs": [
    {
     "name": "stdout",
     "output_type": "stream",
     "text": [
      "1\n",
      "[-1.92574809 -1.1262177  -1.54028136  1.11535017  0.3847154 ]\n",
      "0.847630497737\n"
     ]
    }
   ],
   "source": [
    "import random\n",
    "import numpy as np\n",
    "#随机整数\n",
    "rint=random.randint(1,5)\n",
    "#随机小数\n",
    "rfloat=np.random.randn(5)\n",
    "#0-1随机小数\n",
    "rfloat01=random.random()\n",
    "print(rint)\n",
    "print(rfloat)\n",
    "print(rfloat01)"
   ]
  },
  {
   "cell_type": "markdown",
   "metadata": {},
   "source": [
    "14. 列表[1,2,3,4,5],请使用map()函数输出[1,4,9,16,25]，并使用列表推导式提取出大于10的数，最终输出[16,25]"
   ]
  },
  {
   "cell_type": "code",
   "execution_count": 25,
   "metadata": {},
   "outputs": [
    {
     "name": "stdout",
     "output_type": "stream",
     "text": [
      "[16, 25]\n"
     ]
    }
   ],
   "source": [
    "list=[1,2,3,4,5]\n",
    "def fun(x):\n",
    "    return x**2\n",
    "res=map(fun,list)\n",
    "res=[i for i in res if i >9]\n",
    "print(res)"
   ]
  },
  {
   "cell_type": "markdown",
   "metadata": {},
   "source": [
    "15. 避免转义给字符串加哪个字母表示原始字符串？\n",
    "\n",
    "r （raw）, 表示需要原始字符串，不转义特殊字符"
   ]
  },
  {
   "cell_type": "markdown",
   "metadata": {},
   "source": [
    "16. <div class=\"nam\">China</div>，用正则匹配出标签里面的内容（“中国”），其中class的类名是不确定的"
   ]
  },
  {
   "cell_type": "code",
   "execution_count": 32,
   "metadata": {},
   "outputs": [
    {
     "name": "stdout",
     "output_type": "stream",
     "text": [
      "['China']\n"
     ]
    }
   ],
   "source": [
    "import re\n",
    "str='<div class=\"nam\">China</div>'\n",
    "search=re.findall(r'<div class=\".*\">(.*?)</div>', str)\n",
    "print(search)"
   ]
  },
  {
   "cell_type": "markdown",
   "metadata": {},
   "source": [
    "17. python中断言方法举例"
   ]
  },
  {
   "cell_type": "code",
   "execution_count": 33,
   "metadata": {},
   "outputs": [
    {
     "name": "stdout",
     "output_type": "stream",
     "text": [
      "断言成功，程序继续执行\n"
     ]
    },
    {
     "ename": "AssertionError",
     "evalue": "",
     "output_type": "error",
     "traceback": [
      "\u001b[0;31m---------------------------------------------------------------------------\u001b[0m",
      "\u001b[0;31mAssertionError\u001b[0m                            Traceback (most recent call last)",
      "\u001b[0;32m<ipython-input-33-406c5fb44de6>\u001b[0m in \u001b[0;36m<module>\u001b[0;34m()\u001b[0m\n\u001b[1;32m      2\u001b[0m \u001b[0;32massert\u001b[0m\u001b[0;34m(\u001b[0m\u001b[0ma\u001b[0m\u001b[0;34m<\u001b[0m\u001b[0;36m5\u001b[0m\u001b[0;34m)\u001b[0m\u001b[0;34m\u001b[0m\u001b[0m\n\u001b[1;32m      3\u001b[0m \u001b[0;32mprint\u001b[0m\u001b[0;34m(\u001b[0m\u001b[0;34m\"断言成功，程序继续执行\"\u001b[0m\u001b[0;34m)\u001b[0m\u001b[0;34m\u001b[0m\u001b[0m\n\u001b[0;32m----> 4\u001b[0;31m \u001b[0;32massert\u001b[0m\u001b[0;34m(\u001b[0m\u001b[0ma\u001b[0m\u001b[0;34m<\u001b[0m\u001b[0;36m2\u001b[0m\u001b[0;34m)\u001b[0m\u001b[0;34m\u001b[0m\u001b[0m\n\u001b[0m\u001b[1;32m      5\u001b[0m \u001b[0;32mprint\u001b[0m\u001b[0;34m(\u001b[0m\u001b[0;34m\"断言失败，程序报错\"\u001b[0m\u001b[0;34m)\u001b[0m\u001b[0;34m\u001b[0m\u001b[0m\n",
      "\u001b[0;31mAssertionError\u001b[0m: "
     ]
    }
   ],
   "source": [
    "a=3\n",
    "assert(a<5)\n",
    "print(\"断言成功，程序继续执行\")\n",
    "assert(a<2)\n",
    "print(\"断言失败，程序报错\")"
   ]
  },
  {
   "cell_type": "markdown",
   "metadata": {},
   "source": [
    "18. 数据表student有id,name,score,city字段，其中name中的名字可有重复，需要消除重复行,请写sql语句"
   ]
  },
  {
   "cell_type": "markdown",
   "metadata": {},
   "source": [
    "select distinct name from student"
   ]
  },
  {
   "cell_type": "markdown",
   "metadata": {},
   "source": [
    "19. 10个Linux常用命令<br \\>\n",
    "mkdir, cd, ls, pwd, cat, rm, mv, touch, cp, "
   ]
  },
  {
   "cell_type": "markdown",
   "metadata": {},
   "source": [
    "20. python2和python3区别？列举5个<br \\>\n",
    "1、Python3 使用 print 必须要以小括号包裹打印内容，比如 print('hi'); Python2 既可以使用带小括号的方式，也可以使用一个空格来分隔打印内容，比 如 print 'hi' <br \\>\n",
    "2、python2 range(1,10)返回列表，python3中返回迭代器，节约内存<br \\>\n",
    "3、Python2中使用ascii编码，Python3中使用utf-8编码<br \\>\n",
    "4、Python2中unicode表示字符串序列，str表示字节序列; Python3中str表示字符串序列，byte表示字节序列<br \\>\n",
    "5、python2中为正常显示中文，引入coding声明，python3中不需要<br \\>\n",
    "6、python2中是raw_input()函数，Python3中是input()函数<br \\>"
   ]
  },
  {
   "cell_type": "markdown",
   "metadata": {},
   "source": [
    "21. 列出python中可变数据类型和不可变数据类型，并简述原理<br \\>\n",
    "不可变：数值型、字符串型、元组型 <br \\>\n",
    "变量的值不可以改变，当其改变时，会新建一个对象；同值的两个变量在内存中只有一个对象<br \\>\n",
    "可变：字典型、列表型<br \\>\n",
    "允许变量的值发生变化。当通过append等方法改变变量值时，不会新生成对象，也不会改变原有对象的地址；当多个变量值相同时，不存在引用计数，而是实实在在对象。"
   ]
  },
  {
   "cell_type": "markdown",
   "metadata": {},
   "source": [
    "22. s = \"ajldjlajfdljfddd\"，去重并从小到大排序输出\"adfjl\""
   ]
  },
  {
   "cell_type": "code",
   "execution_count": 37,
   "metadata": {},
   "outputs": [
    {
     "name": "stdout",
     "output_type": "stream",
     "text": [
      "<type 'list'>\n"
     ]
    },
    {
     "ename": "TypeError",
     "evalue": "'list' object is not callable",
     "output_type": "error",
     "traceback": [
      "\u001b[0;31m---------------------------------------------------------------------------\u001b[0m",
      "\u001b[0;31mTypeError\u001b[0m                                 Traceback (most recent call last)",
      "\u001b[0;32m<ipython-input-37-39d32d845335>\u001b[0m in \u001b[0;36m<module>\u001b[0;34m()\u001b[0m\n\u001b[1;32m      2\u001b[0m \u001b[0ms\u001b[0m\u001b[0;34m=\u001b[0m\u001b[0mset\u001b[0m\u001b[0;34m(\u001b[0m\u001b[0ms\u001b[0m\u001b[0;34m)\u001b[0m\u001b[0;34m\u001b[0m\u001b[0m\n\u001b[1;32m      3\u001b[0m \u001b[0;32mprint\u001b[0m\u001b[0;34m(\u001b[0m\u001b[0mtype\u001b[0m\u001b[0;34m(\u001b[0m\u001b[0mlist\u001b[0m\u001b[0;34m)\u001b[0m\u001b[0;34m)\u001b[0m\u001b[0;34m\u001b[0m\u001b[0m\n\u001b[0;32m----> 4\u001b[0;31m \u001b[0ms\u001b[0m\u001b[0;34m=\u001b[0m\u001b[0mlist\u001b[0m\u001b[0;34m(\u001b[0m\u001b[0ms\u001b[0m\u001b[0;34m)\u001b[0m\u001b[0;34m\u001b[0m\u001b[0m\n\u001b[0m\u001b[1;32m      5\u001b[0m \u001b[0ms\u001b[0m\u001b[0;34m.\u001b[0m\u001b[0msort\u001b[0m\u001b[0;34m(\u001b[0m\u001b[0mreverse\u001b[0m\u001b[0;34m=\u001b[0m\u001b[0mFalse\u001b[0m\u001b[0;34m)\u001b[0m\u001b[0;34m\u001b[0m\u001b[0m\n\u001b[1;32m      6\u001b[0m \u001b[0mres\u001b[0m\u001b[0;34m=\u001b[0m\u001b[0;34m\"\"\u001b[0m\u001b[0;34m.\u001b[0m\u001b[0mjoin\u001b[0m\u001b[0;34m(\u001b[0m\u001b[0ms\u001b[0m\u001b[0;34m)\u001b[0m\u001b[0;34m\u001b[0m\u001b[0m\n",
      "\u001b[0;31mTypeError\u001b[0m: 'list' object is not callable"
     ]
    }
   ],
   "source": [
    "s = \"ajldjlajfdljfddd\"\n",
    "s=set(s)\n",
    "#'list' object is not callable，前文定义了叫list的变量，把系统的关键字覆盖了，所以会报错\n",
    "s=list(s)\n",
    "s.sort(reverse=False)\n",
    "res=\"\".join(s)\n",
    "res"
   ]
  },
  {
   "cell_type": "markdown",
   "metadata": {},
   "source": [
    "23. 用lambda函数实现两个数相乘"
   ]
  },
  {
   "cell_type": "code",
   "execution_count": 38,
   "metadata": {},
   "outputs": [
    {
     "name": "stdout",
     "output_type": "stream",
     "text": [
      "20\n"
     ]
    }
   ],
   "source": [
    "sum=lambda a,b:a*b\n",
    "print(sum(4,5))"
   ]
  },
  {
   "cell_type": "markdown",
   "metadata": {},
   "source": [
    "24. 字典根据键从小到大排序"
   ]
  },
  {
   "cell_type": "code",
   "execution_count": 40,
   "metadata": {},
   "outputs": [
    {
     "name": "stdout",
     "output_type": "stream",
     "text": [
      "{'city': '\\xe6\\xb7\\xb1\\xe5\\x9c\\xb3', 'age': 18, 'tel': '1362626627', 'name': 'zs'}\n"
     ]
    }
   ],
   "source": [
    "dict={\"name\":\"zs\",\"age\":18,\"city\":\"深圳\",\"tel\":\"1362626627\"}\n",
    "li=sorted(dict.items(), key=lambda i:i[0], reverse=False)\n",
    "new_list={}\n",
    "for i in li:\n",
    "    new_list[i[0]]=i[1]\n",
    "print(new_list)"
   ]
  },
  {
   "cell_type": "markdown",
   "metadata": {},
   "source": [
    "25. 利用collections库的Counter方法统计字符串每个单词出现的次数\"kjalfj;ldsjafl;hdsllfdhg;lahfbl;hl;ahlf;h\""
   ]
  },
  {
   "cell_type": "code",
   "execution_count": 41,
   "metadata": {},
   "outputs": [
    {
     "data": {
      "text/plain": [
       "Counter({';': 6,\n",
       "         'a': 4,\n",
       "         'b': 1,\n",
       "         'd': 3,\n",
       "         'f': 5,\n",
       "         'g': 1,\n",
       "         'h': 6,\n",
       "         'j': 3,\n",
       "         'k': 1,\n",
       "         'l': 9,\n",
       "         's': 2})"
      ]
     },
     "execution_count": 41,
     "metadata": {},
     "output_type": "execute_result"
    }
   ],
   "source": [
    "from collections import Counter\n",
    "a=\"kjalfj;ldsjafl;hdsllfdhg;lahfbl;hl;ahlf;h\"\n",
    "acount=Counter(a)\n",
    "acount"
   ]
  },
  {
   "cell_type": "markdown",
   "metadata": {},
   "source": [
    "26. 字符串a = \"not 404 found 张三 99 深圳\"，每个词中间是空格，用正则过滤掉英文和数字，最终输出\"张三 深圳\""
   ]
  },
  {
   "cell_type": "code",
   "execution_count": 45,
   "metadata": {},
   "outputs": [
    {
     "data": {
      "text/plain": [
       "'\\xe5\\xbc\\xa0\\xe4\\xb8\\x89 \\xe6\\xb7\\xb1\\xe5\\x9c\\xb3'"
      ]
     },
     "execution_count": 45,
     "metadata": {},
     "output_type": "execute_result"
    }
   ],
   "source": [
    "a = \"not 404 found 张三 99 深圳\"\n",
    "lis=a.split(' ')\n",
    "res=re.findall('\\d+|[a-zA-Z]+',a)\n",
    "for i in res:\n",
    "    if i in lis:\n",
    "        lis.remove(i)\n",
    "new_str=\" \".join(lis)\n",
    "new_str"
   ]
  },
  {
   "cell_type": "markdown",
   "metadata": {},
   "source": [
    "27. filter方法求出列表所有奇数并构造新列表，a = [1, 2, 3, 4, 5, 6, 7, 8, 9, 10]"
   ]
  },
  {
   "cell_type": "code",
   "execution_count": 47,
   "metadata": {},
   "outputs": [
    {
     "data": {
      "text/plain": [
       "[1, 3, 5, 7, 9]"
      ]
     },
     "execution_count": 47,
     "metadata": {},
     "output_type": "execute_result"
    }
   ],
   "source": [
    "a = [1, 2, 3, 4, 5, 6, 7, 8, 9, 10]\n",
    "odd=[i for i in a if i%2==1]\n",
    "odd"
   ]
  },
  {
   "cell_type": "markdown",
   "metadata": {},
   "source": [
    "28. 列表推导式求列表所有奇数并构造新列表，a = [1, 2, 3, 4, 5, 6, 7, 8, 9, 10]"
   ]
  },
  {
   "cell_type": "code",
   "execution_count": 48,
   "metadata": {},
   "outputs": [
    {
     "data": {
      "text/plain": [
       "[1, 3, 5, 7, 9]"
      ]
     },
     "execution_count": 48,
     "metadata": {},
     "output_type": "execute_result"
    }
   ],
   "source": [
    "a = [1, 2, 3, 4, 5, 6, 7, 8, 9, 10]\n",
    "def fn(a):\n",
    "    return a%2==1\n",
    "li=filter(fn, a)\n",
    "new_list=[i for i in li]\n",
    "new_list"
   ]
  },
  {
   "cell_type": "markdown",
   "metadata": {},
   "source": [
    "29. 正则re.complie作用<br \\>\n",
    "re.compile是将正则表达式编译成一个对象，加快速度，并重复使用"
   ]
  },
  {
   "cell_type": "markdown",
   "metadata": {},
   "source": [
    "30. a=（1，）b=(1)，c=(\"1\") 分别是什么类型的数据？<br \\>\n",
    "元组，int， str"
   ]
  },
  {
   "cell_type": "markdown",
   "metadata": {},
   "source": [
    "31. 两个列表[1,5,7,9]和[2,2,6,8]合并为[1,2,2,3,6,7,8,9]"
   ]
  },
  {
   "cell_type": "code",
   "execution_count": 52,
   "metadata": {},
   "outputs": [
    {
     "data": {
      "text/plain": [
       "[1, 2, 2, 5, 6, 7, 8, 9]"
      ]
     },
     "execution_count": 52,
     "metadata": {},
     "output_type": "execute_result"
    }
   ],
   "source": [
    "list1=[1,5,7,9]\n",
    "list2=[2,2,6,8]\n",
    "list1.extend(list2)\n",
    "list1.sort(reverse=False)\n",
    "list1"
   ]
  },
  {
   "cell_type": "markdown",
   "metadata": {},
   "source": [
    "32. 用python删除文件和用linux命令删除文件方法<br />\n",
    "python: os.remove(文件名)<br />\n",
    "linux: rm 文件名"
   ]
  },
  {
   "cell_type": "markdown",
   "metadata": {},
   "source": [
    "33. log日志中，我们需要用时间戳记录error,warning等的发生时间，请用datetime模块打印当前时间戳 “2018-04-01 11:38:54”"
   ]
  },
  {
   "cell_type": "code",
   "execution_count": 55,
   "metadata": {},
   "outputs": [
    {
     "data": {
      "text/plain": [
       "'2019-03-08 08:44:19'"
      ]
     },
     "execution_count": 55,
     "metadata": {},
     "output_type": "execute_result"
    }
   ],
   "source": [
    "import datetime\n",
    "del str\n",
    "a=str(datetime.datetime.now().strftime('%Y-%m-%d %H:%M:%S'))\n",
    "a"
   ]
  },
  {
   "cell_type": "markdown",
   "metadata": {},
   "source": [
    "34. 数据库优化查询方法<br />\n",
    "外键、索引、联合查询、选择特定字段等"
   ]
  },
  {
   "cell_type": "markdown",
   "metadata": {},
   "source": [
    "35. 请列出你会的任意一种统计图（条形图、折线图等）绘制的开源库，第三方也行\n",
    "<br />matplotlib、seaborn"
   ]
  },
  {
   "cell_type": "markdown",
   "metadata": {},
   "source": [
    "36. 写一段自定义异常代码"
   ]
  },
  {
   "cell_type": "code",
   "execution_count": 57,
   "metadata": {},
   "outputs": [
    {
     "name": "stdout",
     "output_type": "stream",
     "text": [
      "i 大于5了\n"
     ]
    }
   ],
   "source": [
    "try:\n",
    "    for i in range(5):\n",
    "        if i>3:\n",
    "            raise Exception(\"i 大于5了\")\n",
    "except Exception as ret:\n",
    "    print(ret)"
   ]
  },
  {
   "cell_type": "markdown",
   "metadata": {},
   "source": [
    "37. 正则表达式匹配中，（.\\*）和（.\\*?）匹配区别？<br />\n",
    "(.\\*)是贪婪匹配，会匹配尽可能多的字符串<br /> （.\\*?)是非贪婪匹配，会匹配尽可能少的字符串"
   ]
  },
  {
   "cell_type": "code",
   "execution_count": 59,
   "metadata": {},
   "outputs": [
    {
     "name": "stdout",
     "output_type": "stream",
     "text": [
      "['fssf']\n"
     ]
    },
    {
     "data": {
      "text/plain": [
       "['f', 'f']"
      ]
     },
     "execution_count": 59,
     "metadata": {},
     "output_type": "execute_result"
    }
   ],
   "source": [
    "a=\"sfssfs\"\n",
    "res1=re.findall(\"s(.*)s\",a)\n",
    "res2=re.findall(\"s(.*?)s\",a)\n",
    "print(res1)\n",
    "res2"
   ]
  },
  {
   "cell_type": "markdown",
   "metadata": {},
   "source": [
    "38. 简述Django的orm<br />\n",
    "ORM,object-relation mapping,对象-关系映射。实现了数据库和数据模型的解藕，只需要面向对象编程，无需担心底层数据库类型，简单的配置就可以更换数据库。orm会根据对接的数据库引擎，将模型中的代码翻译成对应的sql语句。如果数据库迁移，只需要更换数据库引擎即可。"
   ]
  },
  {
   "cell_type": "markdown",
   "metadata": {},
   "source": [
    "39. [[1,2],[3,4],[5,6]]一行代码展开该列表，得出[1,2,3,4,5,6]"
   ]
  },
  {
   "cell_type": "code",
   "execution_count": 61,
   "metadata": {},
   "outputs": [
    {
     "data": {
      "text/plain": [
       "[1, 2, 3, 4, 5, 6]"
      ]
     },
     "execution_count": 61,
     "metadata": {},
     "output_type": "execute_result"
    }
   ],
   "source": [
    "a= [[1,2],[3,4],[5,6]]\n",
    "res=[j for i in a for j in i]\n",
    "res"
   ]
  },
  {
   "cell_type": "code",
   "execution_count": 62,
   "metadata": {},
   "outputs": [
    {
     "data": {
      "text/plain": [
       "[1, 2, 3, 4, 5, 6]"
      ]
     },
     "execution_count": 62,
     "metadata": {},
     "output_type": "execute_result"
    }
   ],
   "source": [
    "a= [[1,2],[3,4],[5,6]]\n",
    "res1=np.array(a).flatten().tolist()\n",
    "res1"
   ]
  },
  {
   "cell_type": "markdown",
   "metadata": {},
   "source": [
    "40. x=\"abc\",y=\"def\",z=[\"d\",\"e\",\"f\"],分别求出x.join(y)和x.join(z)返回的结果"
   ]
  },
  {
   "cell_type": "code",
   "execution_count": 67,
   "metadata": {},
   "outputs": [
    {
     "name": "stdout",
     "output_type": "stream",
     "text": [
      "('dabceabcf', 'dabceabcf')\n"
     ]
    }
   ],
   "source": [
    "x=\"abc\"\n",
    "y=\"def\"\n",
    "z=[\"d\",\"e\",\"f\"]\n",
    "m=x.join(z)\n",
    "n=x.join(y)\n",
    "print(m,n)"
   ]
  },
  {
   "cell_type": "markdown",
   "metadata": {},
   "source": [
    "41. 举例说明异常模块中try except else finally的相关意义\n",
    "<br />try..except..else没有捕获到异常，执行else语句<br />\n",
    "try..except..finally不管是否捕获到异常，都执行finally语句"
   ]
  },
  {
   "cell_type": "markdown",
   "metadata": {},
   "source": [
    "42. python中交换两个数值"
   ]
  },
  {
   "cell_type": "code",
   "execution_count": 69,
   "metadata": {},
   "outputs": [
    {
     "name": "stdout",
     "output_type": "stream",
     "text": [
      "(4, 3)\n"
     ]
    }
   ],
   "source": [
    "a, b =3,4\n",
    "a,b=b,a\n",
    "print(a,b)"
   ]
  },
  {
   "cell_type": "markdown",
   "metadata": {},
   "source": [
    "43. 举例说明zip（）函数用法<br />\n",
    "zip()函数将一个或多个可迭代序列（列表、元组、字符串）作为参数，返回一个元组的列表，此元组的列表是参数中序列的并排元素的配对。当传入的参数不长度不同时，zip截取最短序列进行配对，返回元组"
   ]
  },
  {
   "cell_type": "markdown",
   "metadata": {},
   "source": [
    "44. a=\"张明 98分\"，用re.sub，将98替换为100"
   ]
  },
  {
   "cell_type": "code",
   "execution_count": 70,
   "metadata": {},
   "outputs": [
    {
     "data": {
      "text/plain": [
       "'\\xe5\\xbc\\xa0\\xe6\\x98\\x8e 100\\xe5\\x88\\x86'"
      ]
     },
     "execution_count": 70,
     "metadata": {},
     "output_type": "execute_result"
    }
   ],
   "source": [
    "a=\"张明 98分\"\n",
    "a=re.sub(r\"\\d+\",\"100\",a)\n",
    "a"
   ]
  },
  {
   "cell_type": "markdown",
   "metadata": {},
   "source": [
    "45. 写5条常用sql语句<br />\n",
    "show databases<br />\n",
    "select * from table<br />\n",
    "select distict name from table<br />\n",
    "update table set name=\"jane\" where id=5<br />\n",
    "delete from table where name=\"jane\""
   ]
  },
  {
   "cell_type": "markdown",
   "metadata": {},
   "source": [
    "46. a=\"hello\"和b=\"你好\"编码成bytes类型"
   ]
  },
  {
   "cell_type": "code",
   "execution_count": 77,
   "metadata": {},
   "outputs": [
    {
     "ename": "UnicodeDecodeError",
     "evalue": "'ascii' codec can't decode byte 0xe4 in position 0: ordinal not in range(128)",
     "output_type": "error",
     "traceback": [
      "\u001b[0;31m---------------------------------------------------------------------------\u001b[0m",
      "\u001b[0;31mUnicodeDecodeError\u001b[0m                        Traceback (most recent call last)",
      "\u001b[0;32m<ipython-input-77-d73b5edcea63>\u001b[0m in \u001b[0;36m<module>\u001b[0;34m()\u001b[0m\n\u001b[1;32m      1\u001b[0m \u001b[0;34m\u001b[0m\u001b[0m\n\u001b[1;32m      2\u001b[0m \u001b[0ma\u001b[0m\u001b[0;34m=\u001b[0m\u001b[0;34mb'hello'\u001b[0m\u001b[0;34m\u001b[0m\u001b[0m\n\u001b[0;32m----> 3\u001b[0;31m \u001b[0mb\u001b[0m\u001b[0;34m=\u001b[0m\u001b[0;34m'你好'\u001b[0m\u001b[0;34m.\u001b[0m\u001b[0mencode\u001b[0m\u001b[0;34m(\u001b[0m\u001b[0;34m)\u001b[0m\u001b[0;34m\u001b[0m\u001b[0m\n\u001b[0m\u001b[1;32m      4\u001b[0m \u001b[0;32mprint\u001b[0m\u001b[0;34m(\u001b[0m\u001b[0ma\u001b[0m\u001b[0;34m,\u001b[0m\u001b[0mb\u001b[0m\u001b[0;34m)\u001b[0m\u001b[0;34m\u001b[0m\u001b[0m\n",
      "\u001b[0;31mUnicodeDecodeError\u001b[0m: 'ascii' codec can't decode byte 0xe4 in position 0: ordinal not in range(128)"
     ]
    }
   ],
   "source": [
    "# -*- coding: UTF-8 -*-\n",
    "a=b'hello'\n",
    "b='你好'.encode()\n",
    "print(a,b)"
   ]
  },
  {
   "cell_type": "markdown",
   "metadata": {},
   "source": [
    "47. [1,2,3]+[4,5,6]的结果是多少？<br />\n",
    "两列表相加，结果等于extend"
   ]
  },
  {
   "cell_type": "markdown",
   "metadata": {},
   "source": [
    "48. 提高python运行效率的方法<br />\n",
    "1.使用生成器，可以大量节约内存<br />\n",
    "2.循环代码优化，避免过多重复代码的执行<br />\n",
    "3.核心模块有cpython，pypy等，提高运行效率<br />\n",
    "4.多线程，多进程，协程<br />\n",
    "5.多个if elif条件判断，可以把最有可能先发生的条件放到前面写，这样可以减少程序判断的次数，提高效率"
   ]
  },
  {
   "cell_type": "markdown",
   "metadata": {},
   "source": [
    "49. 简述mysql和redis区别\n",
    "<br />mysql是关系型数据库，存在磁盘中，检索时会涉及IO操作，读取相对较慢\n",
    "<br />redis是非关系型数据库，存在内存中，速度快"
   ]
  },
  {
   "cell_type": "markdown",
   "metadata": {},
   "source": [
    "50. 遇到bug如何处理<br />"
   ]
  },
  {
   "cell_type": "code",
   "execution_count": null,
   "metadata": {},
   "outputs": [],
   "source": []
  }
 ],
 "metadata": {
  "kernelspec": {
   "display_name": "Python 2",
   "language": "python",
   "name": "python2"
  },
  "language_info": {
   "codemirror_mode": {
    "name": "ipython",
    "version": 2
   },
   "file_extension": ".py",
   "mimetype": "text/x-python",
   "name": "python",
   "nbconvert_exporter": "python",
   "pygments_lexer": "ipython2",
   "version": "2.7.15"
  }
 },
 "nbformat": 4,
 "nbformat_minor": 2
}
