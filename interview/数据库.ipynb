{
 "cells": [
  {
   "cell_type": "markdown",
   "metadata": {},
   "source": [
    "1. 什么是储存过程，有哪些优缺点？\n",
    "<br />储存过程是一些预编译的SQL语句的集合。执行效率比较高，通过替代大量SQL语句，可以降低网络通信量，提高网络通信速率，可以一定程度上保证数据安全。"
   ]
  },
  {
   "cell_type": "markdown",
   "metadata": {},
   "source": [
    "2. 索引是什么？有什么作用以及优缺点？\n",
    "<br />索引是数据库中对一列或者多列值进行排序的数据结构\n",
    "<br />优点：帮助MySQL高速获取数据\n",
    "<br />唯一索引可以保证数据的唯一性\n",
    "<br />可以在查询中使用优化隐藏器，提高系统性能\n",
    "<br />缺点：降低数据库增删改的速度\n",
    "<br />索引需要占用物理和数据空间\n",
    "<br />索引的基本类型：普通索引，唯一索引，主键索引，组合索引，全文索引"
   ]
  },
  {
   "cell_type": "markdown",
   "metadata": {},
   "source": [
    "3. 什么是事务？\n",
    "<br />事务是并发控制的基本单位。它是一个操作序列，在这个序列中，要不所有操作都执行，要不都不执行，是一个不可分割的工作单位。事务是数据库维护一致性的单位，在每个事物执行完后，数据库都能保持一致性。事务遵循四个原则：\n",
    "<br /> Atomic（原子性）：事务中包含的操作被看做一个逻辑单元，这个逻辑单元中的操作要么全部成功，要么全部失败。\n",
    "<br />Consistency（一致性）：只有合法的数据可以被写入数据库，否则事务应该将其回滚到最初状态。\n",
    "<br />Isolation（隔离性）：事务允许多个用户对同一个数据进行并发访问，而不破坏数据的正确性和完整性。同时，并行事务的修改必须与其他并行事务的修改相互独立。\n",
    "<br />Durability（持久性）：事务结束后，事务处理的结果必须能够得到固化。"
   ]
  },
  {
   "cell_type": "markdown",
   "metadata": {},
   "source": [
    "4. 数据库的乐观锁和悲观锁是什么？\n",
    "<br />数据库管理系统的并发控制的任务是在不同的用户对数据库进行修改时不破坏事务的隔离性，一致性和数据库的一致性。乐观锁和悲观锁是并发控制的两种常见的技术手段。\n",
    "<br />悲观锁：假定会发生并发冲突，屏蔽一切可能违反数据完整性的可能性，先锁后操作\n",
    "<br />乐观锁：假定不会发生并发冲突，只在提交操作时检查是否违反数据完整性"
   ]
  },
  {
   "cell_type": "markdown",
   "metadata": {},
   "source": [
    "5. 使用索引查询一定能提高查询的性能吗？为什么\n",
    "<br />通常来说，通过索引查找数据的确会比全局查找快，但是索引也会付出相应代价。\n",
    "<br />索引需要空间来储存，也需要定期维护，每当数据库有增删改的操作时，索引都会被相应的修改；由于索引需要额外的空间储存，那些不必要的索引反而会使查询时间变慢。"
   ]
  },
  {
   "cell_type": "code",
   "execution_count": null,
   "metadata": {},
   "outputs": [],
   "source": []
  }
 ],
 "metadata": {
  "kernelspec": {
   "display_name": "Python 2",
   "language": "python",
   "name": "python2"
  },
  "language_info": {
   "codemirror_mode": {
    "name": "ipython",
    "version": 2
   },
   "file_extension": ".py",
   "mimetype": "text/x-python",
   "name": "python",
   "nbconvert_exporter": "python",
   "pygments_lexer": "ipython2",
   "version": "2.7.15"
  }
 },
 "nbformat": 4,
 "nbformat_minor": 2
}
